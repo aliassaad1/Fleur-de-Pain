{
 "cells": [
  {
   "cell_type": "markdown",
   "metadata": {},
   "source": [
    "# Fleur de Pain — Agent-Powered Business Assistant\n",
    "\n",
    "This notebook demonstrates a customer-facing chatbot for Fleur de Pain bakery.\n",
    "\n",
    "Features:\n",
    "- Answers questions about the business using RAG from local documents\n",
    "- Captures leads via function calling\n",
    "- Logs unknown questions/feedback\n",
    "- Interactive Gradio chat interface"
   ]
  },
  {
   "cell_type": "markdown",
   "metadata": {},
   "source": [
    "## 1. Setup and Imports"
   ]
  },
  {
   "cell_type": "code",
   "execution_count": null,
   "metadata": {},
   "outputs": [],
   "source": "import os\nimport json\nfrom datetime import datetime\nfrom pathlib import Path\nimport gradio as gr\nfrom openai import OpenAI\nfrom PyPDF2 import PdfReader\n\n# Load API key (fallback to direct file read if dotenv fails)\ntry:\n    from dotenv import load_dotenv\n    load_dotenv()\n    api_key = os.getenv(\"OPENAI_API_KEY\")\nexcept:\n    api_key = None\n\n# Fallback: Read .env file directly\nif not api_key or not api_key.startswith('sk-'):\n    try:\n        with open('.env', 'r') as f:\n            for line in f:\n                if line.startswith('OPENAI_API_KEY'):\n                    api_key = line.split('=', 1)[1].strip()\n                    break\n    except:\n        pass\n\nif not api_key:\n    raise ValueError(\"OPENAI_API_KEY not found. Please create a .env file with your API key.\")\n\n# Initialize OpenAI client\nclient = OpenAI(api_key=api_key)\n\nprint(\"Libraries imported successfully!\")\nprint(f\"API key loaded: {api_key[:20]}...{api_key[-10:]}\")"
  },
  {
   "cell_type": "markdown",
   "metadata": {},
   "source": [
    "## 2. Load Business Context"
   ]
  },
  {
   "cell_type": "code",
   "execution_count": null,
   "metadata": {},
   "outputs": [],
   "source": [
    "def load_business_context():\n",
    "    \"\"\"Load business information from PDF and text files.\"\"\"\n",
    "    context = \"\"\n",
    "    \n",
    "    # Load PDF\n",
    "    pdf_path = Path(\"me/about_business.pdf\")\n",
    "    if pdf_path.exists():\n",
    "        reader = PdfReader(str(pdf_path))\n",
    "        pdf_text = \"\"\n",
    "        for page in reader.pages:\n",
    "            pdf_text += page.extract_text() + \"\\n\"\n",
    "        context += \"=== Business Profile (from about_business.pdf) ===\\n\" + pdf_text + \"\\n\\n\"\n",
    "    \n",
    "    # Load text summary\n",
    "    txt_path = Path(\"me/business_summary.txt\")\n",
    "    if txt_path.exists():\n",
    "        with open(txt_path, 'r', encoding='utf-8') as f:\n",
    "            txt_content = f.read()\n",
    "        context += \"=== Business Summary (from business_summary.txt) ===\\n\" + txt_content + \"\\n\"\n",
    "    \n",
    "    return context\n",
    "\n",
    "# Load the context\n",
    "BUSINESS_CONTEXT = load_business_context()\n",
    "print(f\"Business context loaded: {len(BUSINESS_CONTEXT)} characters\")\n",
    "print(\"\\nFirst 500 characters:\")\n",
    "print(BUSINESS_CONTEXT[:500])"
   ]
  },
  {
   "cell_type": "markdown",
   "metadata": {},
   "source": [
    "## 3. Create Logs Directory"
   ]
  },
  {
   "cell_type": "code",
   "execution_count": null,
   "metadata": {},
   "outputs": [],
   "source": [
    "# Ensure logs directory exists\n",
    "logs_dir = Path(\"logs\")\n",
    "logs_dir.mkdir(exist_ok=True)\n",
    "print(f\"Logs directory ready: {logs_dir.absolute()}\")"
   ]
  },
  {
   "cell_type": "markdown",
   "metadata": {},
   "source": [
    "## 4. Tool Functions"
   ]
  },
  {
   "cell_type": "code",
   "execution_count": null,
   "metadata": {},
   "outputs": [],
   "source": [
    "def record_customer_interest(email: str, name: str, message: str) -> dict:\n",
    "    \"\"\"\n",
    "    Record customer lead information to JSONL file.\n",
    "    \n",
    "    Args:\n",
    "        email: Customer email or WhatsApp contact\n",
    "        name: Customer name\n",
    "        message: Order intent or inquiry details\n",
    "    \n",
    "    Returns:\n",
    "        Confirmation dictionary\n",
    "    \"\"\"\n",
    "    lead_data = {\n",
    "        \"ts\": datetime.utcnow().isoformat() + \"Z\",\n",
    "        \"email\": email,\n",
    "        \"name\": name,\n",
    "        \"message\": message\n",
    "    }\n",
    "    \n",
    "    # Append to JSONL file\n",
    "    leads_file = Path(\"logs/leads.jsonl\")\n",
    "    with open(leads_file, 'a', encoding='utf-8') as f:\n",
    "        f.write(json.dumps(lead_data) + \"\\n\")\n",
    "    \n",
    "    return {\n",
    "        \"status\": \"success\",\n",
    "        \"message\": f\"Lead recorded for {name}. Our team will reach out via {email} soon!\"\n",
    "    }\n",
    "\n",
    "\n",
    "def record_feedback(question: str) -> dict:\n",
    "    \"\"\"\n",
    "    Record unknown questions or feedback to JSONL file.\n",
    "    \n",
    "    Args:\n",
    "        question: The question or feedback from the customer\n",
    "    \n",
    "    Returns:\n",
    "        Confirmation dictionary\n",
    "    \"\"\"\n",
    "    feedback_data = {\n",
    "        \"ts\": datetime.utcnow().isoformat() + \"Z\",\n",
    "        \"question\": question\n",
    "    }\n",
    "    \n",
    "    # Append to JSONL file\n",
    "    feedback_file = Path(\"logs/feedback.jsonl\")\n",
    "    with open(feedback_file, 'a', encoding='utf-8') as f:\n",
    "        f.write(json.dumps(feedback_data) + \"\\n\")\n",
    "    \n",
    "    return {\n",
    "        \"status\": \"success\",\n",
    "        \"message\": \"Thank you! We've logged your question for our team to review.\"\n",
    "    }\n",
    "\n",
    "print(\"Tool functions defined successfully!\")"
   ]
  },
  {
   "cell_type": "markdown",
   "metadata": {},
   "source": [
    "## 5. Define Function Schemas for OpenAI"
   ]
  },
  {
   "cell_type": "code",
   "execution_count": null,
   "metadata": {},
   "outputs": [],
   "source": [
    "# Tool definitions for OpenAI function calling\n",
    "tools = [\n",
    "    {\n",
    "        \"type\": \"function\",\n",
    "        \"function\": {\n",
    "            \"name\": \"record_customer_interest\",\n",
    "            \"description\": \"Record customer lead information when they express interest in ordering or want a quote. Call this when you have collected their contact details and order intent.\",\n",
    "            \"parameters\": {\n",
    "                \"type\": \"object\",\n",
    "                \"properties\": {\n",
    "                    \"email\": {\n",
    "                        \"type\": \"string\",\n",
    "                        \"description\": \"Customer's email address or WhatsApp number\"\n",
    "                    },\n",
    "                    \"name\": {\n",
    "                        \"type\": \"string\",\n",
    "                        \"description\": \"Customer's full name\"\n",
    "                    },\n",
    "                    \"message\": {\n",
    "                        \"type\": \"string\",\n",
    "                        \"description\": \"Details about their order intent, items wanted, quantities, dates, etc.\"\n",
    "                    }\n",
    "                },\n",
    "                \"required\": [\"email\", \"name\", \"message\"]\n",
    "            }\n",
    "        }\n",
    "    },\n",
    "    {\n",
    "        \"type\": \"function\",\n",
    "        \"function\": {\n",
    "            \"name\": \"record_feedback\",\n",
    "            \"description\": \"Log questions you cannot confidently answer from the business documents, or general customer feedback. Use this when you're uncertain or the question is out of scope.\",\n",
    "            \"parameters\": {\n",
    "                \"type\": \"object\",\n",
    "                \"properties\": {\n",
    "                    \"question\": {\n",
    "                        \"type\": \"string\",\n",
    "                        \"description\": \"The customer's question or feedback\"\n",
    "                    }\n",
    "                },\n",
    "                \"required\": [\"question\"]\n",
    "            }\n",
    "        }\n",
    "    }\n",
    "]\n",
    "\n",
    "print(\"Function schemas defined!\")"
   ]
  },
  {
   "cell_type": "markdown",
   "metadata": {},
   "source": [
    "## 6. System Prompt"
   ]
  },
  {
   "cell_type": "code",
   "execution_count": null,
   "metadata": {},
   "outputs": [],
   "source": [
    "SYSTEM_PROMPT = f\"\"\"You are Fleur de Pain's chat assistant.\n",
    "\n",
    "GOALS:\n",
    "1) Answer questions strictly using the business_summary.txt and about_business.pdf.\n",
    "2) If the user asks for ordering or quotes, collect leads:\n",
    "   - Ask for name, email (or WhatsApp), desired items, quantities, date/time.\n",
    "3) If you cannot answer confidently from the docs, call the tool:\n",
    "   record_feedback(question=the user's question).\n",
    "4) Stay on brand: warm, concise, transparent about bake times.\n",
    "5) Emphasize the bakery's policies:\n",
    "   - Fresh batches every 3 hours; nothing day-old marketed as fresh.\n",
    "   - Custom cakes require 24-hour notice.\n",
    "   - Pre-order via WhatsApp; 2-hour delivery windows (when available).\n",
    "\n",
    "BEHAVIOR:\n",
    "- Never invent prices or availability if not stated; offer to collect details.\n",
    "- For cake inquiries, summarize options (flavors/fillings/sizes) and note 24h lead time.\n",
    "- For bread timing, consult \"Bake Times\" (if provided) or explain typical windows and that schedule.\n",
    "- Always encourage sharing contact info (politely) so the team can confirm and schedule.\n",
    "\n",
    "TOOLS:\n",
    "- record_customer_interest(email, name, message)\n",
    "- record_feedback(question)\n",
    "\n",
    "When you need a lead, call record_customer_interest with all fields you have\n",
    "and placeholders for missing ones. If a question is out-of-scope or unknown,\n",
    "call record_feedback.\n",
    "\n",
    "=== BUSINESS CONTEXT ===\n",
    "{BUSINESS_CONTEXT}\n",
    "\"\"\"\n",
    "\n",
    "print(\"System prompt configured!\")"
   ]
  },
  {
   "cell_type": "markdown",
   "metadata": {},
   "source": [
    "## 7. Chat Handler with Function Calling"
   ]
  },
  {
   "cell_type": "code",
   "execution_count": null,
   "metadata": {},
   "outputs": [],
   "source": "def chat_with_agent(message, history):\n    \"\"\"\n    Process user message and return bot response.\n    Handles function calling for lead capture and feedback.\n    \"\"\"\n    # Build messages from history\n    messages = [{\"role\": \"system\", \"content\": SYSTEM_PROMPT}]\n    \n    # Add conversation history\n    for human, assistant in history:\n        messages.append({\"role\": \"user\", \"content\": human})\n        messages.append({\"role\": \"assistant\", \"content\": assistant})\n    \n    # Add current message\n    messages.append({\"role\": \"user\", \"content\": message})\n    \n    # Call OpenAI API with function calling\n    response = client.chat.completions.create(\n        model=\"gpt-4o\",  # Using GPT-4o for best performance\n        messages=messages,\n        tools=tools,\n        tool_choice=\"auto\"\n    )\n    \n    response_message = response.choices[0].message\n    \n    # Check if the model wants to call a function\n    if response_message.tool_calls:\n        # Process each tool call\n        messages.append(response_message)\n        \n        for tool_call in response_message.tool_calls:\n            function_name = tool_call.function.name\n            function_args = json.loads(tool_call.function.arguments)\n            \n            # Execute the appropriate function\n            if function_name == \"record_customer_interest\":\n                function_response = record_customer_interest(\n                    email=function_args.get(\"email\"),\n                    name=function_args.get(\"name\"),\n                    message=function_args.get(\"message\")\n                )\n            elif function_name == \"record_feedback\":\n                function_response = record_feedback(\n                    question=function_args.get(\"question\")\n                )\n            else:\n                function_response = {\"error\": \"Unknown function\"}\n            \n            # Add function response to messages\n            messages.append({\n                \"tool_call_id\": tool_call.id,\n                \"role\": \"tool\",\n                \"name\": function_name,\n                \"content\": json.dumps(function_response)\n            })\n        \n        # Get final response after function execution\n        second_response = client.chat.completions.create(\n            model=\"gpt-4o\",  # Using GPT-4o for best performance\n            messages=messages\n        )\n        \n        return second_response.choices[0].message.content\n    \n    # No function call needed, return direct response\n    return response_message.content\n\nprint(\"Chat handler defined!\")"
  },
  {
   "cell_type": "markdown",
   "metadata": {},
   "source": [
    "## 8. Launch Gradio Interface"
   ]
  },
  {
   "cell_type": "code",
   "execution_count": null,
   "metadata": {},
   "outputs": [],
   "source": "# Create Gradio chat interface\ndemo = gr.ChatInterface(\n    fn=chat_with_agent,\n    title=\"Fleur de Pain — Business Assistant\",\n    description=\"Ask me about our fresh-baked goods, menu, ordering, custom cakes, and more!\",\n    examples=[\n        \"What types of bread do you offer?\",\n        \"When are fresh batches available?\",\n        \"I need a custom cake for 20 people this Saturday\",\n        \"How do I pre-order for delivery?\",\n        \"Tell me about your viennoiserie\",\n        \"Do you have gluten-free options?\"\n    ],\n    theme=gr.themes.Soft()\n)\n\n# Launch the interface\nif __name__ == \"__main__\":\n    demo.launch(share=False, server_name=\"127.0.0.1\", server_port=7860)"
  },
  {
   "cell_type": "markdown",
   "metadata": {},
   "source": [
    "## 9. Test the Tools Directly (Optional)"
   ]
  },
  {
   "cell_type": "code",
   "execution_count": null,
   "metadata": {},
   "outputs": [],
   "source": [
    "# Test recording a lead\n",
    "test_lead = record_customer_interest(\n",
    "    email=\"test@example.com\",\n",
    "    name=\"Test Customer\",\n",
    "    message=\"Interested in 2 sourdough loaves for Saturday morning pickup\"\n",
    ")\n",
    "print(\"Lead test:\", test_lead)\n",
    "\n",
    "# Test recording feedback\n",
    "test_feedback = record_feedback(\n",
    "    question=\"Do you offer vegan croissants?\"\n",
    ")\n",
    "print(\"Feedback test:\", test_feedback)"
   ]
  },
  {
   "cell_type": "markdown",
   "metadata": {},
   "source": [
    "## 10. View Logged Data (Optional)"
   ]
  },
  {
   "cell_type": "code",
   "execution_count": null,
   "metadata": {},
   "outputs": [],
   "source": [
    "# View leads\n",
    "leads_file = Path(\"logs/leads.jsonl\")\n",
    "if leads_file.exists():\n",
    "    print(\"=== LEADS ===\")\n",
    "    with open(leads_file, 'r', encoding='utf-8') as f:\n",
    "        for line in f:\n",
    "            print(json.loads(line))\n",
    "else:\n",
    "    print(\"No leads logged yet.\")\n",
    "\n",
    "print(\"\\n\")\n",
    "\n",
    "# View feedback\n",
    "feedback_file = Path(\"logs/feedback.jsonl\")\n",
    "if feedback_file.exists():\n",
    "    print(\"=== FEEDBACK ===\")\n",
    "    with open(feedback_file, 'r', encoding='utf-8') as f:\n",
    "        for line in f:\n",
    "            print(json.loads(line))\n",
    "else:\n",
    "    print(\"No feedback logged yet.\")"
   ]
  }
 ],
 "metadata": {
  "kernelspec": {
   "display_name": "Python 3",
   "language": "python",
   "name": "python3"
  },
  "language_info": {
   "codemirror_mode": {
    "name": "ipython",
    "version": 3
   },
   "file_extension": ".py",
   "mimetype": "text/x-python",
   "name": "python",
   "nbconvert_exporter": "python",
   "pygments_lexer": "ipython3",
   "version": "3.10.0"
  }
 },
 "nbformat": 4,
 "nbformat_minor": 4
}